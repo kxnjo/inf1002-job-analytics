{
  "cells": [
    {
      "cell_type": "code",
      "execution_count": 1,
      "metadata": {
        "id": "lDOXvQ3wlVdU"
      },
      "outputs": [],
      "source": [
        "import spacy\n",
        "import numpy as np\n",
        "from sklearn.model_selection import train_test_split\n",
        "from sklearn.linear_model import LogisticRegression\n",
        "from sklearn.feature_extraction.text import TfidfVectorizer\n",
        "from sklearn.metrics import accuracy_score\n",
        "import random\n",
        "\n",
        "# load spaCy model\n",
        "nlp = spacy.load('en_core_web_sm')"
      ]
    },
    {
      "cell_type": "code",
      "execution_count": 2,
      "metadata": {},
      "outputs": [
        {
          "name": "stderr",
          "output_type": "stream",
          "text": [
            "[nltk_data] Downloading package omw-1.4 to /Users/xinhui/nltk_data...\n",
            "[nltk_data]   Package omw-1.4 is already up-to-date!\n"
          ]
        }
      ],
      "source": [
        "# for lemmatization\n",
        "import nltk\n",
        "nltk.download('omw-1.4')\n",
        "from nltk.stem import WordNetLemmatizer\n",
        "from nltk.tokenize import word_tokenize"
      ]
    },
    {
      "cell_type": "code",
      "execution_count": 3,
      "metadata": {},
      "outputs": [],
      "source": [
        "def lemmantize_word(word):\n",
        "    lemmatizer = WordNetLemmatizer()\n",
        "    return lemmatizer.lemmatize(word)\n",
        "\n",
        "\n",
        "def preprocess(word):\n",
        "    word = word_tokenize(lemmantize_word(word.strip().lower()))\n",
        "    processed_text = \" \".join(word)\n",
        "    return processed_text"
      ]
    },
    {
      "cell_type": "code",
      "execution_count": 4,
      "metadata": {},
      "outputs": [],
      "source": [
        "import pandas as pd\n",
        "allsSkills = []\n",
        "\n",
        "summarised = pd.read_csv('./data/ml/manual_summarise.csv')\n",
        "count = 0\n",
        "for index, row in summarised.iterrows():\n",
        "    if row['summarised'] not in allsSkills:\n",
        "        allsSkills.append(row['summarised'])\n",
        "        count += 1\n",
        "\n",
        "allsSkills = [item for item in allsSkills if isinstance(item, str)]"
      ]
    },
    {
      "cell_type": "code",
      "execution_count": 6,
      "metadata": {
        "id": "2aGNuwJaUMXZ"
      },
      "outputs": [
        {
          "data": {
            "text/plain": [
              "1"
            ]
          },
          "execution_count": 6,
          "metadata": {},
          "output_type": "execute_result"
        }
      ],
      "source": [
        "combineSkills = {}\n",
        "# load hardskills from txt file\n",
        "with open(\"./data/ml/hardskills.txt\", \"r\") as file:\n",
        "    for line in file.readlines():\n",
        "        combineSkills[preprocess(line)] = 1\n",
        "\n",
        "# load softskills from txt file\n",
        "# with open(\"./data/ml/summarized_sSkill.txt\", \"r\") as file:\n",
        "#     for line in file.readlines():\n",
        "#         combineSkills[preprocess(line)] = 0\n",
        "\n",
        "for skill in allsSkills:\n",
        "    combineSkills[preprocess(skill)] = 0\n",
        "\n",
        "\n",
        "# randomize the order of the skills dict\n",
        "allSkills = list(combineSkills.keys())  # List of keys\n",
        "random.shuffle(allSkills)\n",
        "skills_df = {}\n",
        "for i in allSkills:\n",
        "    skills_df[i] = combineSkills[i]\n",
        "\n",
        "skills_df[\"linux\"]\n"
      ]
    },
    {
      "cell_type": "code",
      "execution_count": 7,
      "metadata": {
        "id": "7R49aDYWRz0i"
      },
      "outputs": [],
      "source": [
        "# combine hard and soft skill data\n",
        "all_skills = [skill for skill, types in skills_df.items()]\n",
        "all_labels = [types for skill, types in skills_df.items()]\n",
        "\n",
        "# vectorize\n",
        "tfidf_vectorizer = TfidfVectorizer()\n",
        "all_vectors = tfidf_vectorizer.fit_transform(all_skills)\n",
        "total_len = len(all_labels)"
      ]
    },
    {
      "cell_type": "code",
      "execution_count": 15,
      "metadata": {
        "id": "FxIFXsZkSMk2"
      },
      "outputs": [
        {
          "name": "stdout",
          "output_type": "stream",
          "text": [
            "Accuracy: 0.82\n"
          ]
        }
      ],
      "source": [
        "# Split data into train and test sets\n",
        "X_train, X_test, y_train, y_test = train_test_split(all_vectors, all_labels, test_size=0.15, random_state=42)\n",
        "\n",
        "# Train a logistic regression model\n",
        "clf = LogisticRegression()\n",
        "clf.fit(X_train, y_train)\n",
        "\n",
        "# Make predictions\n",
        "y_pred = clf.predict(X_test)\n",
        "# G_y_pred = model.predict(X_test)\n",
        "\n",
        "# Evaluate the model\n",
        "accuracy = accuracy_score(y_test, y_pred)\n",
        "print(f\"Accuracy: {accuracy}\")"
      ]
    },
    {
      "cell_type": "code",
      "execution_count": 16,
      "metadata": {
        "colab": {
          "base_uri": "https://localhost:8080/"
        },
        "id": "VJO4fuyXSYvr",
        "outputId": "e2ce2d9d-0433-4297-f7e7-0a9310ec6041"
      },
      "outputs": [
        {
          "name": "stdout",
          "output_type": "stream",
          "text": [
            "[1]\n",
            "['chef ( configuration management tool )'] is a hard skill.\n"
          ]
        }
      ],
      "source": [
        "# using the model!!\n",
        "input_skill = [preprocess(\"Chef (Configuration Management Tool)\")]\n",
        "input_skill_vector = tfidf_vectorizer.transform(input_skill)\n",
        "\n",
        "prediction = clf.predict(input_skill_vector)\n",
        "print(prediction)\n",
        "\n",
        "if prediction[0] == 1:\n",
        "    print(f\"{input_skill} is a hard skill.\")\n",
        "else:\n",
        "    print(f\"{input_skill} is a soft skill.\")"
      ]
    },
    {
      "cell_type": "code",
      "execution_count": 17,
      "metadata": {
        "colab": {
          "base_uri": "https://localhost:8080/"
        },
        "id": "BS8zuTgyXDus",
        "outputId": "c3ba34e2-54fc-4658-fba9-eda1adb41269"
      },
      "outputs": [
        {
          "data": {
            "text/plain": [
              "['./models/tfidf_vectorize.pkl']"
            ]
          },
          "execution_count": 17,
          "metadata": {},
          "output_type": "execute_result"
        }
      ],
      "source": [
        "import joblib\n",
        "\n",
        "# save the trained model into a file\n",
        "joblib.dump(clf, './models/skill_classifier_model.pkl')\n",
        "joblib.dump(tfidf_vectorizer, './models/tfidf_vectorize.pkl')"
      ]
    },
    {
      "cell_type": "code",
      "execution_count": null,
      "metadata": {
        "id": "Mc3HtOIeXuN3"
      },
      "outputs": [],
      "source": [
        "# when cannot load en_core_web_sm, run this\n",
        "!python3 -m spacy download en_core_web_sm"
      ]
    }
  ],
  "metadata": {
    "colab": {
      "provenance": []
    },
    "kernelspec": {
      "display_name": "Python 3",
      "name": "python3"
    },
    "language_info": {
      "codemirror_mode": {
        "name": "ipython",
        "version": 3
      },
      "file_extension": ".py",
      "mimetype": "text/x-python",
      "name": "python",
      "nbconvert_exporter": "python",
      "pygments_lexer": "ipython3",
      "version": "3.9.13"
    }
  },
  "nbformat": 4,
  "nbformat_minor": 0
}
